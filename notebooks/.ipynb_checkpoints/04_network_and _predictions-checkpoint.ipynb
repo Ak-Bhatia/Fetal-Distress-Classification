{
 "cells": [
  {
   "cell_type": "markdown",
   "metadata": {},
   "source": [
    "# CNN for Fetal Distress Classification"
   ]
  },
  {
   "cell_type": "code",
   "execution_count": 1,
   "metadata": {
    "ExecuteTime": {
     "end_time": "2019-03-01T18:02:44.272679Z",
     "start_time": "2019-03-01T18:02:42.482776Z"
    }
   },
   "outputs": [
    {
     "name": "stderr",
     "output_type": "stream",
     "text": [
      "/home/hdsingh/.local/lib/python3.5/site-packages/h5py/__init__.py:36: FutureWarning: Conversion of the second argument of issubdtype from `float` to `np.floating` is deprecated. In future, it will be treated as `np.float64 == np.dtype(float).type`.\n",
      "  from ._conv import register_converters as _register_converters\n",
      "Using TensorFlow backend.\n"
     ]
    }
   ],
   "source": [
    "import numpy as np\n",
    "import pandas as pd\n",
    "import keras\n",
    "from keras.layers import Activation\n",
    "from keras.preprocessing.image import ImageDataGenerator\n",
    "from keras.preprocessing import image\n",
    "from keras.layers import Dropout, Flatten, Dense\n",
    "from keras.layers import Input, Add, Dense, Activation, ZeroPadding2D, BatchNormalization, Flatten, Conv2D, AveragePooling2D, MaxPooling2D, GlobalMaxPooling2D\n",
    "from keras.applications import ResNet50\n",
    "from keras.models import Model, Sequential\n",
    "from keras.layers import Dense, GlobalAveragePooling2D,Conv2D,BatchNormalization, MaxPool2D,Convolution2D,MaxPooling2D\n",
    "from keras import backend as K\n",
    "from keras.layers.wrappers import TimeDistributed\n",
    "from keras.applications.imagenet_utils import preprocess_input, decode_predictions\n",
    "from pathlib import Path\n",
    "from keras import metrics\n",
    "from keras import optimizers\n",
    "import keras.backend as K\n",
    "import matplotlib.pyplot as plt\n",
    "from keras.callbacks import Callback\n",
    "from keras.initializers import glorot_uniform\n",
    "%matplotlib inline"
   ]
  },
  {
   "cell_type": "code",
   "execution_count": 2,
   "metadata": {
    "ExecuteTime": {
     "end_time": "2019-03-01T18:02:45.624045Z",
     "start_time": "2019-03-01T18:02:45.621340Z"
    }
   },
   "outputs": [],
   "source": [
    "PATH = Path(\"../data/image_data/data/\")\n",
    "sz=(400,1600)\n",
    "IMAGE_SIZE  = (400,1600,1)\n",
    "batch_size = 16"
   ]
  },
  {
   "cell_type": "code",
   "execution_count": 3,
   "metadata": {
    "ExecuteTime": {
     "end_time": "2019-03-01T18:02:46.230044Z",
     "start_time": "2019-03-01T18:02:46.223366Z"
    }
   },
   "outputs": [],
   "source": [
    "train_data_dir = str(PATH) +\"/train\"\n",
    "validation_data_dir = str(PATH) +\"/test\"\n",
    "test_data_dir = str(PATH) +\"/valset\""
   ]
  },
  {
   "cell_type": "markdown",
   "metadata": {},
   "source": [
    "### Image Data Generators"
   ]
  },
  {
   "cell_type": "code",
   "execution_count": 4,
   "metadata": {
    "ExecuteTime": {
     "end_time": "2019-03-01T18:02:49.173553Z",
     "start_time": "2019-03-01T18:02:47.977888Z"
    },
    "code_folding": [],
    "scrolled": true
   },
   "outputs": [
    {
     "name": "stdout",
     "output_type": "stream",
     "text": [
      "Found 26895 images belonging to 4 classes.\n",
      "Found 3311 images belonging to 4 classes.\n"
     ]
    }
   ],
   "source": [
    "train_datagen = ImageDataGenerator()\n",
    "val_datagen = ImageDataGenerator()\n",
    "test_datagen = ImageDataGenerator()\n",
    "\n",
    "train_generator = train_datagen.flow_from_directory(train_data_dir,\n",
    "                                                    target_size=sz,\n",
    "                                                    batch_size=batch_size, \n",
    "                                                    class_mode='categorical',\n",
    "                                                    color_mode = 'grayscale',\n",
    "                                                    seed=26,\n",
    "                                                    )\n",
    "\n",
    "validation_generator = val_datagen.flow_from_directory(validation_data_dir,\n",
    "    target_size=sz,\n",
    "    batch_size=batch_size, \n",
    "    class_mode='categorical',\n",
    "    color_mode = 'grayscale',\n",
    "    shuffle = False\n",
    "    )"
   ]
  },
  {
   "cell_type": "code",
   "execution_count": 7,
   "metadata": {
    "ExecuteTime": {
     "end_time": "2019-03-01T18:03:07.280990Z",
     "start_time": "2019-03-01T18:03:07.172732Z"
    }
   },
   "outputs": [
    {
     "name": "stdout",
     "output_type": "stream",
     "text": [
      "Found 396 images belonging to 1 classes.\n"
     ]
    }
   ],
   "source": [
    "predict_generator = test_datagen.flow_from_directory(test_data_dir,\n",
    "        target_size=sz,\n",
    "    batch_size=batch_size, \n",
    "    class_mode='categorical',\n",
    "    color_mode = 'grayscale',\n",
    "    shuffle = False)  # keep data in same order as labels\n",
    "\n",
    "predict_generator.reset()"
   ]
  },
  {
   "cell_type": "markdown",
   "metadata": {},
   "source": [
    "### Model"
   ]
  },
  {
   "cell_type": "code",
   "execution_count": 8,
   "metadata": {
    "ExecuteTime": {
     "end_time": "2019-03-01T18:03:10.718729Z",
     "start_time": "2019-03-01T18:03:08.984709Z"
    }
   },
   "outputs": [],
   "source": [
    "model = Sequential()\n",
    "\n",
    "#########1\n",
    "\n",
    "model.add(Conv2D(64, (15,15),strides = (3,3), input_shape = IMAGE_SIZE ,kernel_initializer='glorot_uniform'))\n",
    "\n",
    "model.add(keras.layers.ELU())\n",
    "\n",
    "model.add(BatchNormalization())\n",
    "\n",
    "#########2\n",
    "\n",
    "model.add(Conv2D(64, (11,11),strides = (3,3),kernel_initializer='glorot_uniform'))\n",
    "\n",
    "model.add(keras.layers.ELU())\n",
    "\n",
    "model.add(BatchNormalization())\n",
    "\n",
    "model.add(MaxPool2D(pool_size=(2,2), strides= (2,2)))\n",
    "\n",
    "#########3\n",
    "\n",
    "model.add(Conv2D(128, (7,7),strides = (1,1),kernel_initializer='glorot_uniform'))\n",
    "\n",
    "model.add(keras.layers.ELU())\n",
    "\n",
    "model.add(BatchNormalization())\n",
    "\n",
    "#########4\n",
    "\n",
    "model.add(Conv2D(128, (5,5),strides = (1,1),kernel_initializer='glorot_uniform'))\n",
    "\n",
    "model.add(keras.layers.ELU())\n",
    "\n",
    "model.add(BatchNormalization())\n",
    "\n",
    "model.add(MaxPool2D(pool_size=(2,2), strides= (1,1)))\n",
    "\n",
    "#########5\n",
    "\n",
    "\n",
    "model.add(Conv2D(256, (3,3),strides = (1,1),kernel_initializer='glorot_uniform'))\n",
    "\n",
    "model.add(keras.layers.ELU())\n",
    "\n",
    "model.add(BatchNormalization())\n",
    "\n",
    "#########6\n",
    "\n",
    "model.add(Conv2D(256, (3,3),strides = (1,1),kernel_initializer='glorot_uniform'))\n",
    "\n",
    "model.add(keras.layers.ELU())\n",
    "\n",
    "model.add(BatchNormalization())\n",
    "\n",
    "model.add(MaxPool2D(pool_size=(2,2), strides= (2,2)))\n",
    "\n",
    "#########7\n",
    "\n",
    "model.add(Conv2D(256, (2,2),strides = (1,1),kernel_initializer='glorot_uniform'))\n",
    "\n",
    "model.add(keras.layers.ELU())\n",
    "\n",
    "model.add(BatchNormalization())\n",
    "\n",
    "\n",
    "#########8\n",
    "\n",
    "model.add(Flatten())\n",
    "model.add(Dropout(0.7))\n",
    "\n",
    "model.add(Dense(28))\n",
    "\n",
    "model.add(keras.layers.ELU())\n",
    "\n",
    "model.add(BatchNormalization())\n",
    "\n",
    "model.add(Dense(12))\n",
    "\n",
    "model.add(Dense(4, activation='softmax'))\n",
    "\n",
    "\n",
    "model.compile(loss='categorical_crossentropy', \n",
    "              optimizer=optimizers.Adam(lr=0.001,decay= 1e-6), \n",
    "              metrics=['accuracy'])\n",
    "\n",
    "# model.summary()"
   ]
  },
  {
   "cell_type": "markdown",
   "metadata": {},
   "source": [
    "### Try1"
   ]
  },
  {
   "cell_type": "code",
   "execution_count": 12,
   "metadata": {
    "ExecuteTime": {
     "end_time": "2019-02-27T19:03:12.536204Z",
     "start_time": "2019-02-27T18:52:26.602056Z"
    }
   },
   "outputs": [
    {
     "name": "stdout",
     "output_type": "stream",
     "text": [
      "Epoch 1/1\n",
      "1680/1680 [==============================] - 644s 384ms/step - loss: 0.9604 - acc: 0.5687 - val_loss: 1.3291 - val_acc: 0.4323\n"
     ]
    },
    {
     "data": {
      "text/plain": [
       "<keras.callbacks.History at 0x7f69ec0e93c8>"
      ]
     },
     "execution_count": 12,
     "metadata": {},
     "output_type": "execute_result"
    }
   ],
   "source": [
    "model.compile(loss='categorical_crossentropy', \n",
    "              optimizer=optimizers.Adam(lr=0.001,decay= 1e-5), \n",
    "              metrics=['accuracy'])\n",
    "model.fit_generator(train_generator, train_generator.n // batch_size, epochs=1, workers=8,\n",
    "validation_data=validation_generator, validation_steps=validation_generator.n // batch_size)"
   ]
  },
  {
   "cell_type": "code",
   "execution_count": 14,
   "metadata": {
    "ExecuteTime": {
     "end_time": "2019-02-27T19:03:55.810049Z",
     "start_time": "2019-02-27T19:03:55.765816Z"
    }
   },
   "outputs": [],
   "source": [
    "modelpath = Path(\"../data/image_data/models/custom/custom_try1_1.h5\")\n",
    "model.save_weights(modelpath)"
   ]
  },
  {
   "cell_type": "markdown",
   "metadata": {},
   "source": [
    "##### Model 2"
   ]
  },
  {
   "cell_type": "code",
   "execution_count": 26,
   "metadata": {
    "ExecuteTime": {
     "end_time": "2019-02-27T19:38:50.194986Z",
     "start_time": "2019-02-27T19:27:50.973479Z"
    }
   },
   "outputs": [
    {
     "name": "stdout",
     "output_type": "stream",
     "text": [
      "Epoch 1/1\n",
      "1680/1680 [==============================] - 657s 391ms/step - loss: 0.9196 - acc: 0.5867 - val_loss: 1.9031 - val_acc: 0.4724\n"
     ]
    },
    {
     "data": {
      "text/plain": [
       "<keras.callbacks.History at 0x7f69b605aeb8>"
      ]
     },
     "execution_count": 26,
     "metadata": {},
     "output_type": "execute_result"
    }
   ],
   "source": [
    "model.compile(loss='categorical_crossentropy', \n",
    "              optimizer=optimizers.Adam(lr=0.002,decay= 1e-5), \n",
    "              metrics=['accuracy'])\n",
    "model.fit_generator(train_generator, train_generator.n // batch_size, epochs=1, workers=8,\n",
    "validation_data=validation_generator, validation_steps=validation_generator.n // batch_size)"
   ]
  },
  {
   "cell_type": "code",
   "execution_count": 27,
   "metadata": {
    "ExecuteTime": {
     "end_time": "2019-02-27T19:40:10.723282Z",
     "start_time": "2019-02-27T19:40:08.768634Z"
    }
   },
   "outputs": [],
   "source": [
    "modelpath = Path(\"../data/image_data/models/custom/custom_try1_2.h5\")\n",
    "model.save_weights(modelpath)"
   ]
  },
  {
   "cell_type": "code",
   "execution_count": 31,
   "metadata": {
    "ExecuteTime": {
     "end_time": "2019-02-27T20:05:34.413508Z",
     "start_time": "2019-02-27T20:05:34.363923Z"
    }
   },
   "outputs": [],
   "source": [
    "model.load_weights(modelpath)"
   ]
  },
  {
   "cell_type": "code",
   "execution_count": 32,
   "metadata": {
    "ExecuteTime": {
     "end_time": "2019-02-27T20:16:33.375606Z",
     "start_time": "2019-02-27T20:05:34.988913Z"
    }
   },
   "outputs": [
    {
     "name": "stdout",
     "output_type": "stream",
     "text": [
      "Epoch 1/1\n",
      "1680/1680 [==============================] - 657s 391ms/step - loss: 0.7050 - acc: 0.6988 - val_loss: 0.7367 - val_acc: 0.6520\n"
     ]
    },
    {
     "data": {
      "text/plain": [
       "<keras.callbacks.History at 0x7f69a4cbc128>"
      ]
     },
     "execution_count": 32,
     "metadata": {},
     "output_type": "execute_result"
    }
   ],
   "source": [
    "model.compile(loss='categorical_crossentropy', \n",
    "              optimizer=optimizers.Adam(lr=0.0001,decay= 1e-6), \n",
    "              metrics=['accuracy'])\n",
    "model.fit_generator(train_generator, train_generator.n // batch_size, epochs=1, workers=8,\n",
    "validation_data=validation_generator, validation_steps=validation_generator.n // batch_size)"
   ]
  },
  {
   "cell_type": "code",
   "execution_count": 33,
   "metadata": {
    "ExecuteTime": {
     "end_time": "2019-02-27T20:18:39.891484Z",
     "start_time": "2019-02-27T20:18:39.822902Z"
    }
   },
   "outputs": [],
   "source": [
    "modelpath = Path(\"../data/image_data/models/custom/custom_try1_3.h5\")\n",
    "model.save_weights(modelpath)"
   ]
  },
  {
   "cell_type": "code",
   "execution_count": 35,
   "metadata": {
    "ExecuteTime": {
     "end_time": "2019-02-27T20:34:24.905974Z",
     "start_time": "2019-02-27T20:34:24.860641Z"
    }
   },
   "outputs": [],
   "source": [
    "model.load_weights(modelpath)"
   ]
  },
  {
   "cell_type": "code",
   "execution_count": 36,
   "metadata": {
    "ExecuteTime": {
     "end_time": "2019-02-27T20:45:18.222214Z",
     "start_time": "2019-02-27T20:34:27.832856Z"
    }
   },
   "outputs": [
    {
     "name": "stdout",
     "output_type": "stream",
     "text": [
      "Epoch 1/1\n",
      "1680/1680 [==============================] - 648s 386ms/step - loss: 0.6444 - acc: 0.7264 - val_loss: 0.6957 - val_acc: 0.6778\n"
     ]
    },
    {
     "data": {
      "text/plain": [
       "<keras.callbacks.History at 0x7f69b62a1860>"
      ]
     },
     "execution_count": 36,
     "metadata": {},
     "output_type": "execute_result"
    }
   ],
   "source": [
    "model.compile(loss='categorical_crossentropy', \n",
    "              optimizer=optimizers.Adam(lr=0.00001,decay= 1e-7), \n",
    "              metrics=['accuracy'])\n",
    "model.fit_generator(train_generator, train_generator.n // batch_size, epochs=1, workers=8,\n",
    "validation_data=validation_generator, validation_steps=validation_generator.n // batch_size)"
   ]
  },
  {
   "cell_type": "markdown",
   "metadata": {},
   "source": [
    "#### ..Load"
   ]
  },
  {
   "cell_type": "code",
   "execution_count": 9,
   "metadata": {
    "ExecuteTime": {
     "end_time": "2019-03-01T18:03:24.796357Z",
     "start_time": "2019-03-01T18:03:24.793702Z"
    }
   },
   "outputs": [],
   "source": [
    "modelpath = Path(\"../data/image_data/models/custom/custom_try1_4.h5\")\n",
    "# model.save_weights(modelpath)"
   ]
  },
  {
   "cell_type": "code",
   "execution_count": 10,
   "metadata": {
    "ExecuteTime": {
     "end_time": "2019-03-01T18:03:26.188544Z",
     "start_time": "2019-03-01T18:03:25.854346Z"
    }
   },
   "outputs": [],
   "source": [
    "model.load_weights(modelpath)"
   ]
  },
  {
   "cell_type": "code",
   "execution_count": 7,
   "metadata": {
    "ExecuteTime": {
     "end_time": "2019-02-28T17:54:05.629124Z",
     "start_time": "2019-02-28T17:54:05.588799Z"
    }
   },
   "outputs": [],
   "source": [
    "model.compile(loss='categorical_crossentropy', \n",
    "              optimizer=optimizers.RMSprop(lr=0.000005,decay= 1e-8), \n",
    "              metrics=['accuracy'])\n",
    "# model.fit_generator(train_generator, train_generator.n // batch_size, epochs=1, workers=8,\n",
    "# validation_data=validation_generator, validation_steps=validation_generator.n // batch_size)"
   ]
  },
  {
   "cell_type": "markdown",
   "metadata": {},
   "source": [
    "### Prediction"
   ]
  },
  {
   "cell_type": "code",
   "execution_count": 11,
   "metadata": {
    "ExecuteTime": {
     "end_time": "2019-03-01T18:03:30.465450Z",
     "start_time": "2019-03-01T18:03:30.456735Z"
    }
   },
   "outputs": [],
   "source": [
    "from statistics import mode \n",
    "def try_mode(l):\n",
    "    try:\n",
    "        m = mode(l)\n",
    "    except:\n",
    "        m = int(np.median(l))\n",
    "    return m"
   ]
  },
  {
   "cell_type": "markdown",
   "metadata": {},
   "source": [
    "##### ..."
   ]
  },
  {
   "cell_type": "code",
   "execution_count": 12,
   "metadata": {
    "ExecuteTime": {
     "end_time": "2019-03-01T18:03:37.266833Z",
     "start_time": "2019-03-01T18:03:31.473446Z"
    }
   },
   "outputs": [
    {
     "name": "stdout",
     "output_type": "stream",
     "text": [
      "25/25 [==============================] - 6s 230ms/step\n"
     ]
    }
   ],
   "source": [
    "pred=model.predict_generator(predict_generator,verbose=1,)                   \n",
    "predicted_class_indices=np.argmax(pred,axis=1)\n",
    "\n",
    "filenames=predict_generator.filenames\n",
    "results=pd.DataFrame({\"Filename\":filenames,\n",
    "                      \"Predictions\":list(predicted_class_indices)})"
   ]
  },
  {
   "cell_type": "code",
   "execution_count": 14,
   "metadata": {
    "ExecuteTime": {
     "end_time": "2019-03-01T18:04:23.518616Z",
     "start_time": "2019-03-01T18:04:23.494770Z"
    }
   },
   "outputs": [],
   "source": [
    "results['Rec_id'] = results.Filename.apply(lambda x: str(x).split('/')[1].split('_')[0])\n",
    "results['Actual_label'] = results.Filename.apply(lambda x: str(x).split('_')[1].split('/')[0])\n",
    "results['Part'] = results.Filename.apply(lambda x: str(x).split('_')[3])\n",
    "results['Img_id'] = results.Filename.apply(lambda x: str(x).split('_')[-1].split('.')[0])"
   ]
  },
  {
   "cell_type": "code",
   "execution_count": 15,
   "metadata": {
    "ExecuteTime": {
     "end_time": "2019-03-01T18:04:24.718444Z",
     "start_time": "2019-03-01T18:04:24.688291Z"
    }
   },
   "outputs": [
    {
     "data": {
      "text/html": [
       "<div>\n",
       "<style scoped>\n",
       "    .dataframe tbody tr th:only-of-type {\n",
       "        vertical-align: middle;\n",
       "    }\n",
       "\n",
       "    .dataframe tbody tr th {\n",
       "        vertical-align: top;\n",
       "    }\n",
       "\n",
       "    .dataframe thead th {\n",
       "        text-align: right;\n",
       "    }\n",
       "</style>\n",
       "<table border=\"1\" class=\"dataframe\">\n",
       "  <thead>\n",
       "    <tr style=\"text-align: right;\">\n",
       "      <th></th>\n",
       "      <th>Rec_id</th>\n",
       "      <th>Part</th>\n",
       "      <th>Img_id</th>\n",
       "      <th>Actual_label</th>\n",
       "      <th>Predictions</th>\n",
       "    </tr>\n",
       "  </thead>\n",
       "  <tbody>\n",
       "    <tr>\n",
       "      <th>253</th>\n",
       "      <td>1003</td>\n",
       "      <td>1</td>\n",
       "      <td>1</td>\n",
       "      <td>1</td>\n",
       "      <td>1</td>\n",
       "    </tr>\n",
       "    <tr>\n",
       "      <th>254</th>\n",
       "      <td>1003</td>\n",
       "      <td>1</td>\n",
       "      <td>10</td>\n",
       "      <td>1</td>\n",
       "      <td>1</td>\n",
       "    </tr>\n",
       "    <tr>\n",
       "      <th>255</th>\n",
       "      <td>1003</td>\n",
       "      <td>1</td>\n",
       "      <td>11</td>\n",
       "      <td>1</td>\n",
       "      <td>1</td>\n",
       "    </tr>\n",
       "    <tr>\n",
       "      <th>256</th>\n",
       "      <td>1003</td>\n",
       "      <td>1</td>\n",
       "      <td>2</td>\n",
       "      <td>1</td>\n",
       "      <td>1</td>\n",
       "    </tr>\n",
       "    <tr>\n",
       "      <th>257</th>\n",
       "      <td>1003</td>\n",
       "      <td>1</td>\n",
       "      <td>3</td>\n",
       "      <td>1</td>\n",
       "      <td>1</td>\n",
       "    </tr>\n",
       "  </tbody>\n",
       "</table>\n",
       "</div>"
      ],
      "text/plain": [
       "    Rec_id Part Img_id Actual_label  Predictions\n",
       "253   1003    1      1            1            1\n",
       "254   1003    1     10            1            1\n",
       "255   1003    1     11            1            1\n",
       "256   1003    1      2            1            1\n",
       "257   1003    1      3            1            1"
      ]
     },
     "execution_count": 15,
     "metadata": {},
     "output_type": "execute_result"
    }
   ],
   "source": [
    "results = results[['Rec_id','Part','Img_id','Actual_label','Predictions']]\n",
    "results = results.sort_values(by = ['Rec_id','Part','Img_id','Actual_label'],)\n",
    "results.head()"
   ]
  },
  {
   "cell_type": "code",
   "execution_count": 16,
   "metadata": {
    "ExecuteTime": {
     "end_time": "2019-03-01T18:04:32.163825Z",
     "start_time": "2019-03-01T18:04:31.924642Z"
    }
   },
   "outputs": [],
   "source": [
    "lis = []\n",
    "for r_id in results.Rec_id.unique():\n",
    "    t = results[results.Rec_id == r_id]\n",
    "    for r_part in t.Part.unique():\n",
    "        s = t[t.Part == r_part ]\n",
    "        pal = int(s.iloc[0].Actual_label) #part's actual label\n",
    "        ppv = s.Predictions.values #part's predicted values\n",
    "        ppv = try_mode(ppv)\n",
    "        temp = (int(r_id),int(r_part),pal,ppv)\n",
    "        lis.append(temp)    "
   ]
  },
  {
   "cell_type": "code",
   "execution_count": 17,
   "metadata": {
    "ExecuteTime": {
     "end_time": "2019-03-01T18:04:33.421115Z",
     "start_time": "2019-03-01T18:04:33.412501Z"
    }
   },
   "outputs": [
    {
     "data": {
      "text/html": [
       "<div>\n",
       "<style scoped>\n",
       "    .dataframe tbody tr th:only-of-type {\n",
       "        vertical-align: middle;\n",
       "    }\n",
       "\n",
       "    .dataframe tbody tr th {\n",
       "        vertical-align: top;\n",
       "    }\n",
       "\n",
       "    .dataframe thead th {\n",
       "        text-align: right;\n",
       "    }\n",
       "</style>\n",
       "<table border=\"1\" class=\"dataframe\">\n",
       "  <thead>\n",
       "    <tr style=\"text-align: right;\">\n",
       "      <th></th>\n",
       "      <th>Rec_id</th>\n",
       "      <th>Rec_part</th>\n",
       "      <th>Actual</th>\n",
       "      <th>Predicted</th>\n",
       "    </tr>\n",
       "  </thead>\n",
       "  <tbody>\n",
       "    <tr>\n",
       "      <th>0</th>\n",
       "      <td>1003</td>\n",
       "      <td>1</td>\n",
       "      <td>1</td>\n",
       "      <td>1</td>\n",
       "    </tr>\n",
       "    <tr>\n",
       "      <th>1</th>\n",
       "      <td>1003</td>\n",
       "      <td>2</td>\n",
       "      <td>2</td>\n",
       "      <td>2</td>\n",
       "    </tr>\n",
       "    <tr>\n",
       "      <th>2</th>\n",
       "      <td>1003</td>\n",
       "      <td>3</td>\n",
       "      <td>3</td>\n",
       "      <td>0</td>\n",
       "    </tr>\n",
       "    <tr>\n",
       "      <th>3</th>\n",
       "      <td>1003</td>\n",
       "      <td>4</td>\n",
       "      <td>1</td>\n",
       "      <td>2</td>\n",
       "    </tr>\n",
       "    <tr>\n",
       "      <th>4</th>\n",
       "      <td>1009</td>\n",
       "      <td>1</td>\n",
       "      <td>2</td>\n",
       "      <td>1</td>\n",
       "    </tr>\n",
       "  </tbody>\n",
       "</table>\n",
       "</div>"
      ],
      "text/plain": [
       "   Rec_id  Rec_part  Actual  Predicted\n",
       "0    1003         1       1          1\n",
       "1    1003         2       2          2\n",
       "2    1003         3       3          0\n",
       "3    1003         4       1          2\n",
       "4    1009         1       2          1"
      ]
     },
     "execution_count": 17,
     "metadata": {},
     "output_type": "execute_result"
    }
   ],
   "source": [
    "result = pd.DataFrame(lis,columns=['Rec_id','Rec_part','Actual','Predicted'])\n",
    "result.head()"
   ]
  },
  {
   "cell_type": "markdown",
   "metadata": {},
   "source": [
    "## Overall Accuracy"
   ]
  },
  {
   "cell_type": "code",
   "execution_count": 18,
   "metadata": {
    "ExecuteTime": {
     "end_time": "2019-03-01T18:05:46.388328Z",
     "start_time": "2019-03-01T18:05:46.383179Z"
    }
   },
   "outputs": [
    {
     "data": {
      "text/plain": [
       "0.6843853820598007"
      ]
     },
     "execution_count": 18,
     "metadata": {},
     "output_type": "execute_result"
    }
   ],
   "source": [
    "len(result[result.Actual == result.Predicted])/len(result)"
   ]
  },
  {
   "cell_type": "markdown",
   "metadata": {},
   "source": [
    "Hence this model is able to achieve 68.4385% accuracy."
   ]
  },
  {
   "cell_type": "markdown",
   "metadata": {},
   "source": [
    "#### Part4"
   ]
  },
  {
   "cell_type": "code",
   "execution_count": 19,
   "metadata": {
    "ExecuteTime": {
     "end_time": "2019-03-01T18:05:51.512911Z",
     "start_time": "2019-03-01T18:05:51.509969Z"
    }
   },
   "outputs": [],
   "source": [
    "part4_res = result[result.Rec_part == 4]"
   ]
  },
  {
   "cell_type": "code",
   "execution_count": 26,
   "metadata": {
    "ExecuteTime": {
     "end_time": "2019-03-01T18:07:36.060906Z",
     "start_time": "2019-03-01T18:07:36.041581Z"
    }
   },
   "outputs": [
    {
     "data": {
      "text/plain": [
       "(37, 60)"
      ]
     },
     "execution_count": 26,
     "metadata": {},
     "output_type": "execute_result"
    }
   ],
   "source": [
    "len(part4_res[(part4_res.Actual - part4_res.Predicted)==0]),len(part4_res)"
   ]
  },
  {
   "cell_type": "markdown",
   "metadata": {},
   "source": [
    "##### Difference in labels of 1"
   ]
  },
  {
   "cell_type": "code",
   "execution_count": 31,
   "metadata": {
    "ExecuteTime": {
     "end_time": "2019-03-01T18:10:28.335864Z",
     "start_time": "2019-03-01T18:10:28.329859Z"
    }
   },
   "outputs": [
    {
     "data": {
      "text/plain": [
       "23"
      ]
     },
     "execution_count": 31,
     "metadata": {},
     "output_type": "execute_result"
    }
   ],
   "source": [
    "len(part4_res[abs(part4_res.Actual - part4_res.Predicted)==1])"
   ]
  },
  {
   "cell_type": "markdown",
   "metadata": {},
   "source": [
    "##### Difference in labels of 2"
   ]
  },
  {
   "cell_type": "code",
   "execution_count": 30,
   "metadata": {
    "ExecuteTime": {
     "end_time": "2019-03-01T18:07:59.779086Z",
     "start_time": "2019-03-01T18:07:59.771899Z"
    }
   },
   "outputs": [
    {
     "data": {
      "text/html": [
       "<div>\n",
       "<style scoped>\n",
       "    .dataframe tbody tr th:only-of-type {\n",
       "        vertical-align: middle;\n",
       "    }\n",
       "\n",
       "    .dataframe tbody tr th {\n",
       "        vertical-align: top;\n",
       "    }\n",
       "\n",
       "    .dataframe thead th {\n",
       "        text-align: right;\n",
       "    }\n",
       "</style>\n",
       "<table border=\"1\" class=\"dataframe\">\n",
       "  <thead>\n",
       "    <tr style=\"text-align: right;\">\n",
       "      <th></th>\n",
       "      <th>Rec_id</th>\n",
       "      <th>Rec_part</th>\n",
       "      <th>Actual</th>\n",
       "      <th>Predicted</th>\n",
       "    </tr>\n",
       "  </thead>\n",
       "  <tbody>\n",
       "  </tbody>\n",
       "</table>\n",
       "</div>"
      ],
      "text/plain": [
       "Empty DataFrame\n",
       "Columns: [Rec_id, Rec_part, Actual, Predicted]\n",
       "Index: []"
      ]
     },
     "execution_count": 30,
     "metadata": {},
     "output_type": "execute_result"
    }
   ],
   "source": [
    "part4_res[abs(part4_res.Actual - part4_res.Predicted)==2]"
   ]
  },
  {
   "cell_type": "markdown",
   "metadata": {},
   "source": [
    "#### Part1"
   ]
  },
  {
   "cell_type": "code",
   "execution_count": 34,
   "metadata": {
    "ExecuteTime": {
     "end_time": "2019-03-01T18:12:12.397222Z",
     "start_time": "2019-03-01T18:12:12.389373Z"
    }
   },
   "outputs": [
    {
     "data": {
      "text/plain": [
       "0.7"
      ]
     },
     "execution_count": 34,
     "metadata": {},
     "output_type": "execute_result"
    }
   ],
   "source": [
    "part1_res = result[result.Rec_part == 1]\n",
    "len(part1_res[part1_res.Actual == part1_res.Predicted])/len(part1_res)"
   ]
  },
  {
   "cell_type": "markdown",
   "metadata": {},
   "source": [
    "##### Part2"
   ]
  },
  {
   "cell_type": "code",
   "execution_count": 35,
   "metadata": {
    "ExecuteTime": {
     "end_time": "2019-03-01T18:12:34.467180Z",
     "start_time": "2019-03-01T18:12:34.462747Z"
    }
   },
   "outputs": [
    {
     "data": {
      "text/plain": [
       "0.6833333333333333"
      ]
     },
     "execution_count": 35,
     "metadata": {},
     "output_type": "execute_result"
    }
   ],
   "source": [
    "part2_res = result[result.Rec_part == 2]\n",
    "len(part2_res[part2_res.Actual == part2_res.Predicted])/len(part2_res)"
   ]
  },
  {
   "cell_type": "markdown",
   "metadata": {},
   "source": [
    "##### Part 3"
   ]
  },
  {
   "cell_type": "code",
   "execution_count": 36,
   "metadata": {
    "ExecuteTime": {
     "end_time": "2019-03-01T18:13:04.689921Z",
     "start_time": "2019-03-01T18:13:04.673055Z"
    }
   },
   "outputs": [
    {
     "data": {
      "text/plain": [
       "0.7333333333333333"
      ]
     },
     "execution_count": 36,
     "metadata": {},
     "output_type": "execute_result"
    }
   ],
   "source": [
    "part3_res = result[result.Rec_part == 3]\n",
    "len(part3_res[part3_res.Actual == part3_res.Predicted])/len(part3_res)"
   ]
  },
  {
   "cell_type": "code",
   "execution_count": null,
   "metadata": {},
   "outputs": [],
   "source": []
  }
 ],
 "metadata": {
  "kernelspec": {
   "display_name": "Python 3",
   "language": "python",
   "name": "python3"
  },
  "language_info": {
   "codemirror_mode": {
    "name": "ipython",
    "version": 3
   },
   "file_extension": ".py",
   "mimetype": "text/x-python",
   "name": "python",
   "nbconvert_exporter": "python",
   "pygments_lexer": "ipython3",
   "version": "3.5.2"
  }
 },
 "nbformat": 4,
 "nbformat_minor": 2
}
